{
  "nbformat": 4,
  "nbformat_minor": 0,
  "metadata": {
    "colab": {
      "provenance": [],
      "authorship_tag": "ABX9TyMz4PY5TvqgwFY4R5Gfq6U3",
      "include_colab_link": true
    },
    "kernelspec": {
      "name": "python3",
      "display_name": "Python 3"
    },
    "language_info": {
      "name": "python"
    }
  },
  "cells": [
    {
      "cell_type": "markdown",
      "metadata": {
        "id": "view-in-github",
        "colab_type": "text"
      },
      "source": [
        "<a href=\"https://colab.research.google.com/github/SamaSamrin/NLP-TF-IDF/blob/main/NLP_Ass4_Attempt_1.ipynb\" target=\"_parent\"><img src=\"https://colab.research.google.com/assets/colab-badge.svg\" alt=\"Open In Colab\"/></a>"
      ]
    },
    {
      "cell_type": "code",
      "source": [
        "import numpy as np\n",
        "from collections import defaultdict, Counter\n",
        "import math\n",
        "from sklearn.preprocessing import normalize\n",
        "from sklearn.feature_extraction.text import CountVectorizer, TfidfTransformer\n",
        "from typing import List\n",
        "\n",
        "### Enter your Name ID in below variables. They must be strings.\n",
        "ID = \"1191609\"\n",
        "NAME = \"Sama Samrin\""
      ],
      "metadata": {
        "id": "dz8thVf6-Iz4"
      },
      "execution_count": 2,
      "outputs": []
    },
    {
      "cell_type": "code",
      "execution_count": 62,
      "metadata": {
        "id": "UARnOC75-C2W"
      },
      "outputs": [],
      "source": [
        "class CustomTFIDF:\n",
        "    def __init__(self, data: List[List[str]]):\n",
        "        #data is a list of lists which consists of words. For example = [[\"it\", \"consist\", \"of\", \"words\"]]\n",
        "        self.data = data\n",
        "        #Map to store words to indexes in the vocab.\n",
        "        self.word_to_index = {}\n",
        "        #Map to store inverse document frequency for each unique word in vocab.\n",
        "        self.idfs_ = {}\n",
        "        #Vocab stores all the unique words in the dataset.\n",
        "        self.vocab = set()\n",
        "    \n",
        "    def _build_vocab(self):\n",
        "        \"\"\"Method to build vocabulary. Vocabulary is a list of unique words in the dataset and it is alphabetically sorted. \n",
        "        Hint: Use the self.vocab to store unique words\n",
        "        Note: Include only words whose length is >= 2\n",
        "        \"\"\"\n",
        "        corpus = self.data\n",
        "        words = set()\n",
        "        #print(\"corpus : \", corpus)\n",
        "\n",
        "        for i in range(len(corpus)):\n",
        "          #print(\"i: \", i)\n",
        "          for j in range(len(corpus[i])):\n",
        "            x = corpus[i][j-1].split(\" \")\n",
        "            for k in range(len(x)):\n",
        "              if x[k] not in words and len(x[k])>=2:\n",
        "                words.add(x[k])\n",
        "\n",
        "        #print(words)\n",
        "        self.vocab = words\n",
        "        #Implement your logic above this line\n",
        "        #Do not modify the below line\n",
        "        self.vocab = sorted(list(self.vocab))\n",
        "    \n",
        "    def create_index_map(self):\n",
        "        \"\"\"Method to map every word to its index in the vocabulary\n",
        "        Hint: Iterate over the vocabulary and store them in word_to_index\n",
        "        \"\"\"\n",
        "        #Implement the logic below this line\n",
        "        words = self.vocab\n",
        "        word_to_index = dict.fromkeys(words)\n",
        "        count = 0\n",
        "\n",
        "        for i in words:\n",
        "            word_to_index[i] = count\n",
        "            count += 1\n",
        "\n",
        "        self.word_to_index = word_to_index\n",
        "        \n",
        "    def calculate_idfs(self):\n",
        "        \"\"\"Method to calculate inverse document frequency. Use the below formula to calculate inverse document frequency\n",
        "        **for assignment 4, use this formula to calculate idfs (the previous one had the wrong brackets.) :**\n",
        "        idf = 1.0 + math.log[(1+length of data) / (1+number of documents with the term)]**\n",
        "        **The formula in the code file is missing a bracket. This formula will ensure you won't run into ZeroDivisionErrors.**\n",
        "        Reference: http://www.tfidf.com/\n",
        "        Hint: Iterate over the vocab and check if word occurs in sentence. Count the occurence and store them in self.idfs_ dictionary. \n",
        "        \"\"\"\n",
        "        \n",
        "        #implement your logic below this line\n",
        "        words = self.vocab\n",
        "        corpus = self.data\n",
        "        self.idfs_= dict.fromkeys(words, 0)\n",
        "        #print(\"idfs map:\", self.idfs_)\n",
        "        total_num_of_terms_in_doc = len(words)\n",
        "\n",
        "        #i = 0 \n",
        "\n",
        "        for word in words:\n",
        "          for i in range(len(corpus)):\n",
        "            #print(\"i=\", i, \", corpus[i] length = \", len(corpus[i]), \", values = \", corpus[i])\n",
        "            freq = corpus[i].count(word)\n",
        "            #print(\"*\", word, \"* appears\", freq, \"times in\", corpus[i])\n",
        "            self.idfs_[word] += freq\n",
        "            #print(\"frequency of \", word, \"in idfs :\", idfs[word])\n",
        "          #print(\"frequency of \", word, \"in idfs :\", self.idfs_[word])\n",
        "            #for j in range(len(corpus[i])):\n",
        "              #print(\"i=\", i, \"j=\", j, \"corpus[i][j] length = \", len(corpus[i][j]))\n",
        "              #if word == corpus[i][j]:\n",
        "\n",
        "        print(\"idfs map:\", self.idfs_)\n",
        "        \n",
        "    def tfidf(self, input_sent: List[str]) -> np.ndarray:\n",
        "        \"\"\"Method which accepts input_sent of the form : [\"is\", \"this\", \"a\", \"sent\"].\n",
        "        Task:\n",
        "            Implement the tfidf approach for the above input. \n",
        "            This function should return a vector of counts for the given inputs.\n",
        "            The output shape of the vector should be 1 x len(self.vocab)\n",
        "            The output should be a numpy array\n",
        "            Example:\n",
        "                length of vocabulary = 10\n",
        "                input_sent = [\"is\", \"this\", \"a\", \"sent\"]\n",
        "                The method should return a vector of shape 1 x 10.\n",
        "            Formula:\n",
        "                TF(t) = (Number of times word t appears in a document) / (Total number of words in the document).\n",
        "                IDF will already be calculated and stored in self.idfs_ variable.\n",
        "        \"\"\"\n",
        "\n",
        "        #Implement your logic below this line\n",
        "        #input_sent = [\"is\", \"this\", \"a\", \"sent\"]\n",
        "        words = self.vocab\n",
        "        vector_shape = (1, len(words))\n",
        "        #print(\"vector shape =\", vector_shape)\n",
        "        vector = np.zeros(vector_shape, dtype=float)\n",
        "        #print(vector)\n",
        "\n",
        "        for word in input_sent:\n",
        "          #print(\"word =\", word)\n",
        "          if word not in words:\n",
        "            input_index = np.where(input_sent == word)\n",
        "            #print(\"OOV error with the word: *\", word)\n",
        "          elif word in self.word_to_index:\n",
        "            #print(\"idfs[word] for\", word, \"is\", idfs[word])\n",
        "            #tf = self.idfs_[word]/len(input_sent)\n",
        "            count = input_sent.count(word)\n",
        "            tf = count/len(input_sent)\n",
        "            #print(\"Term Frequency for\", word, \"is\", tf)\n",
        "            #input_index = np.where(input_sent == word)\n",
        "            #print(i, \"found at input index =\", input_index)\n",
        "            indx = self.word_to_index[word] #getting index of i (word of input_sent) from our index map\n",
        "            #print(\"the word is mapped at indx =\", indx) \n",
        "            #print(\"vector shape = \", vector.shape)\n",
        "            #print(\"inside if\", \"vector[0][indx] =\", vector[0][indx])\n",
        "            vector[0][indx] = tf * self.idfs_[word]\n",
        "            print(\"count=\", count, \"TF=\", tf, \"IDF=\", self.idfs_[word], \"vector value=\", vector[0][indx])\n",
        "\n",
        "        print(vector)\n",
        "        return vector[0]\n",
        "    \n",
        "    def create_vector(self):\n",
        "        #Do not modify this function\n",
        "        #hint: if you understand this function, you will understand what steps you will need to implement first.\n",
        "        self._build_vocab()\n",
        "        self.create_index_map()\n",
        "        self.calculate_idfs()\n",
        "        vector = []\n",
        "        for sent in self.data:\n",
        "            sent_vector = self.tfidf(sent)\n",
        "            vector.append(sent_vector)\n",
        "        vector = np.array(vector)\n",
        "        vector = normalize(vector)\n",
        "        return vector"
      ]
    },
    {
      "cell_type": "markdown",
      "source": [
        "# **My Attempts**"
      ],
      "metadata": {
        "id": "7yPh7gH8BWoV"
      }
    },
    {
      "cell_type": "code",
      "source": [
        "corpus = [[\"this\", \"is\", \"a\", \"document\"], [\"this\", \"is\", \"a\", \"processed\", \"document\"], [\"is\", \"this\", \"a\", \"document\"], [\"this\", \"is\", \"not\", \"a\", \"document\"]]\n"
      ],
      "metadata": {
        "id": "_XYkygywauj5"
      },
      "execution_count": 23,
      "outputs": []
    },
    {
      "cell_type": "markdown",
      "source": [
        "## Building vocab"
      ],
      "metadata": {
        "id": "tWGELv3Sax4N"
      }
    },
    {
      "cell_type": "code",
      "source": [
        "#building vocab\n",
        "words = set()\n",
        "        #print(\"corpus : \", corpus)\n",
        "\n",
        "for i in range(len(corpus)):\n",
        "  #print(\"i: \", i)\n",
        "  for j in range(len(corpus[i])):\n",
        "    x = corpus[i][j-1].split(\" \")\n",
        "    for k in range(len(x)):\n",
        "      if x[k] not in words and len(x[k])>=2:\n",
        "        words.add(x[k])\n",
        "print(words)\n"
      ],
      "metadata": {
        "colab": {
          "base_uri": "https://localhost:8080/"
        },
        "id": "Hb_QNASva0PZ",
        "outputId": "742924c6-576d-4ebc-893d-6956801838e2"
      },
      "execution_count": 24,
      "outputs": [
        {
          "output_type": "stream",
          "name": "stdout",
          "text": [
            "{'document', 'this', 'processed', 'is', 'not'}\n"
          ]
        }
      ]
    },
    {
      "cell_type": "markdown",
      "source": [
        "## Word to index"
      ],
      "metadata": {
        "id": "DTZSaFLua2kv"
      }
    },
    {
      "cell_type": "code",
      "source": [
        "#word to index\n",
        "word_to_index = dict.fromkeys(words)\n",
        "count = 0\n",
        "\n",
        "for i in words:\n",
        "    word_to_index[i] = count\n",
        "    count += 1\n",
        "\n",
        "print(word_to_index)"
      ],
      "metadata": {
        "colab": {
          "base_uri": "https://localhost:8080/"
        },
        "id": "Uist3EWea4Xy",
        "outputId": "f0e263d9-878a-4793-ad48-b388a6245b3f"
      },
      "execution_count": 25,
      "outputs": [
        {
          "output_type": "stream",
          "name": "stdout",
          "text": [
            "{'document': 0, 'this': 1, 'processed': 2, 'is': 3, 'not': 4}\n"
          ]
        }
      ]
    },
    {
      "cell_type": "markdown",
      "source": [
        "## IDF calculation"
      ],
      "metadata": {
        "id": "jjvJXQz6a62n"
      }
    },
    {
      "cell_type": "code",
      "source": [
        "idfs = dict.fromkeys(words, 0)\n",
        "print(\"idfs map:\", idfs)\n",
        "total_num_of_terms_in_doc = len(words)"
      ],
      "metadata": {
        "colab": {
          "base_uri": "https://localhost:8080/"
        },
        "id": "qq-SdTOHn4w_",
        "outputId": "1fa2308d-530a-4106-f5bb-c034bb9028ce"
      },
      "execution_count": 118,
      "outputs": [
        {
          "output_type": "stream",
          "name": "stdout",
          "text": [
            "idfs map: {'document': 0, 'this': 0, 'processed': 0, 'is': 0, 'not': 0}\n"
          ]
        }
      ]
    },
    {
      "cell_type": "code",
      "source": [
        "# IDF = how many documents have the word \n",
        "\n",
        "number_of_docs_that_contain_the_word = dict.fromkeys(words,0)\n",
        "\n",
        "for word in words:\n",
        "  number_of_docs_with_the_word = 0\n",
        "  for doc in corpus:\n",
        "    if word in doc:\n",
        "     #print(word, \"is in\", doc)\n",
        "     number_of_docs_that_contain_the_word[word] += 1\n",
        "\n",
        "print(number_of_docs_that_contain_the_word)"
      ],
      "metadata": {
        "colab": {
          "base_uri": "https://localhost:8080/"
        },
        "id": "xeExfDSdwGxR",
        "outputId": "d199d269-eedd-4c61-eb1b-46fe407d7fa6"
      },
      "execution_count": 122,
      "outputs": [
        {
          "output_type": "stream",
          "name": "stdout",
          "text": [
            "{'document': 4, 'this': 4, 'processed': 1, 'is': 4, 'not': 1}\n"
          ]
        }
      ]
    },
    {
      "cell_type": "code",
      "source": [
        "#counting idfs\n",
        "\n",
        "total_number_of_documents = len(corpus)\n",
        "for word in words:\n",
        "  #print(\"word=\", word)\n",
        "  print(\"total_number_of_documents =\", total_number_of_documents, \"number_of_docs_that_contain_the_word = \", number_of_docs_that_contain_the_word[word])\n",
        "  log_val = math.log(((total_number_of_documents)/(1+number_of_docs_that_contain_the_word[word])), 10)\n",
        "  print(\"log value =\", log_val, \"for word=\", word)\n",
        "  idf_ = 1.0 + log_val\n",
        "  print(\"idf of\", word,\"is\", idf_)\n",
        "  idfs[word] = idf_\n",
        "\n",
        "print(idfs)"
      ],
      "metadata": {
        "colab": {
          "base_uri": "https://localhost:8080/"
        },
        "id": "TWSzfidSqFfi",
        "outputId": "6e126fc4-5ecf-4f94-eecd-79670b75c252"
      },
      "execution_count": 123,
      "outputs": [
        {
          "output_type": "stream",
          "name": "stdout",
          "text": [
            "total_number_of_documents = 4 number_of_docs_that_contain_the_word =  4\n",
            "log value = -0.09691001300805638 for word= document\n",
            "idf of document is 0.9030899869919436\n",
            "total_number_of_documents = 4 number_of_docs_that_contain_the_word =  4\n",
            "log value = -0.09691001300805638 for word= this\n",
            "idf of this is 0.9030899869919436\n",
            "total_number_of_documents = 4 number_of_docs_that_contain_the_word =  1\n",
            "log value = 0.30102999566398114 for word= processed\n",
            "idf of processed is 1.3010299956639813\n",
            "total_number_of_documents = 4 number_of_docs_that_contain_the_word =  4\n",
            "log value = -0.09691001300805638 for word= is\n",
            "idf of is is 0.9030899869919436\n",
            "total_number_of_documents = 4 number_of_docs_that_contain_the_word =  1\n",
            "log value = 0.30102999566398114 for word= not\n",
            "idf of not is 1.3010299956639813\n",
            "{'document': 0.9030899869919436, 'this': 0.9030899869919436, 'processed': 1.3010299956639813, 'is': 0.9030899869919436, 'not': 1.3010299956639813}\n"
          ]
        }
      ]
    },
    {
      "cell_type": "code",
      "source": [
        "for word in words:\n",
        "  occurrence_of_word_in_whole_doc = 0\n",
        "  for i in range(len(corpus)):\n",
        "    #print(\"i=\", i, \", corpus[i] length = \", len(corpus[i]), \", values = \", corpus[i])\n",
        "    freq = corpus[i].count(word)\n",
        "    #print(\"*\", word, \"* appears\", freq, \"times in\", corpus[i])\n",
        "    occurrence_of_word_in_whole_doc += freq\n",
        "    #print(\"frequency of \", word, \"in idfs :\", idfs[word])\n",
        "  print(\"occurrence of \", word, \"in entire doc :\", occurrence_of_word_in_whole_doc)\n",
        "    #for j in range(len(corpus[i])):\n",
        "      #print(\"i=\", i, \"j=\", j, \"corpus[i][j] length = \", len(corpus[i][j]))\n",
        "      #if word == corpus[i][j]:\n",
        "\n",
        "print(idfs)"
      ],
      "metadata": {
        "colab": {
          "base_uri": "https://localhost:8080/"
        },
        "id": "EGwSqWKLn-_w",
        "outputId": "2133a7f5-7cb0-436d-e76e-c9ba7d5b79cb"
      },
      "execution_count": 70,
      "outputs": [
        {
          "output_type": "stream",
          "name": "stdout",
          "text": [
            "occurrence of  document in entire doc : 4\n",
            "occurrence of  this in entire doc : 4\n",
            "occurrence of  processed in entire doc : 1\n",
            "occurrence of  is in entire doc : 4\n",
            "occurrence of  not in entire doc : 1\n",
            "{'document': 0, 'this': 0, 'processed': 0, 'is': 0, 'not': 0}\n"
          ]
        }
      ]
    },
    {
      "cell_type": "code",
      "source": [
        "#idf calculation\n",
        "idfs = dict.fromkeys(words, 0)\n",
        "print(\"idfs map:\", idfs)\n",
        "total_num_of_terms_in_doc = len(words)\n",
        "\n",
        "#i = 0 \n",
        "\n",
        "for word in words:\n",
        "  for i in range(len(corpus)):\n",
        "    #print(\"i=\", i, \", corpus[i] length = \", len(corpus[i]), \", values = \", corpus[i])\n",
        "    freq = corpus[i].count(word)\n",
        "    #print(\"*\", word, \"* appears\", freq, \"times in\", corpus[i])\n",
        "    #idf_ = 1.0 + math.log[(len(corpus)) / (1+freq)] \n",
        "    idfs[word] += freq\n",
        "    #print(\"frequency of \", word, \"in idfs :\", idfs[word])\n",
        "  print(\"frequency of \", word, \"in idfs :\", idfs[word])\n",
        "  idf_ = 1.0 + math.log[(1+len(corpus)) / (1+occurrence_of_word_in_whole_doc)]\n",
        "  print(\"idf of\", word, \"=\", idf_)\n",
        "    #for j in range(len(corpus[i])):\n",
        "      #print(\"i=\", i, \"j=\", j, \"corpus[i][j] length = \", len(corpus[i][j]))\n",
        "      #if word == corpus[i][j]:\n",
        "\n",
        "print(idfs)"
      ],
      "metadata": {
        "colab": {
          "base_uri": "https://localhost:8080/",
          "height": 276
        },
        "id": "ZQoSedNya6et",
        "outputId": "ddff223f-3c94-483c-d9e9-00250233830f"
      },
      "execution_count": 67,
      "outputs": [
        {
          "output_type": "stream",
          "name": "stdout",
          "text": [
            "idfs map: {'document': 0, 'this': 0, 'processed': 0, 'is': 0, 'not': 0}\n",
            "frequency of  document in idfs : 4\n"
          ]
        },
        {
          "output_type": "error",
          "ename": "NameError",
          "evalue": "ignored",
          "traceback": [
            "\u001b[0;31m---------------------------------------------------------------------------\u001b[0m",
            "\u001b[0;31mNameError\u001b[0m                                 Traceback (most recent call last)",
            "\u001b[0;32m<ipython-input-67-4febc683df19>\u001b[0m in \u001b[0;36m<cell line: 8>\u001b[0;34m()\u001b[0m\n\u001b[1;32m     15\u001b[0m     \u001b[0;31m#print(\"frequency of \", word, \"in idfs :\", idfs[word])\u001b[0m\u001b[0;34m\u001b[0m\u001b[0;34m\u001b[0m\u001b[0m\n\u001b[1;32m     16\u001b[0m   \u001b[0mprint\u001b[0m\u001b[0;34m(\u001b[0m\u001b[0;34m\"frequency of \"\u001b[0m\u001b[0;34m,\u001b[0m \u001b[0mword\u001b[0m\u001b[0;34m,\u001b[0m \u001b[0;34m\"in idfs :\"\u001b[0m\u001b[0;34m,\u001b[0m \u001b[0midfs\u001b[0m\u001b[0;34m[\u001b[0m\u001b[0mword\u001b[0m\u001b[0;34m]\u001b[0m\u001b[0;34m)\u001b[0m\u001b[0;34m\u001b[0m\u001b[0;34m\u001b[0m\u001b[0m\n\u001b[0;32m---> 17\u001b[0;31m   \u001b[0midf_\u001b[0m \u001b[0;34m=\u001b[0m \u001b[0;36m1.0\u001b[0m \u001b[0;34m+\u001b[0m \u001b[0mmath\u001b[0m\u001b[0;34m.\u001b[0m\u001b[0mlog\u001b[0m\u001b[0;34m[\u001b[0m\u001b[0;34m(\u001b[0m\u001b[0;36m1\u001b[0m\u001b[0;34m+\u001b[0m\u001b[0mlen\u001b[0m\u001b[0;34m(\u001b[0m\u001b[0mcorpus\u001b[0m\u001b[0;34m)\u001b[0m\u001b[0;34m)\u001b[0m \u001b[0;34m/\u001b[0m \u001b[0;34m(\u001b[0m\u001b[0;36m1\u001b[0m\u001b[0;34m+\u001b[0m\u001b[0moccurrence_of_word_in_whole_doc\u001b[0m\u001b[0;34m)\u001b[0m\u001b[0;34m]\u001b[0m\u001b[0;34m\u001b[0m\u001b[0;34m\u001b[0m\u001b[0m\n\u001b[0m\u001b[1;32m     18\u001b[0m   \u001b[0mprint\u001b[0m\u001b[0;34m(\u001b[0m\u001b[0;34m\"idf of\"\u001b[0m\u001b[0;34m,\u001b[0m \u001b[0mword\u001b[0m\u001b[0;34m,\u001b[0m \u001b[0;34m\"=\"\u001b[0m\u001b[0;34m,\u001b[0m \u001b[0midf_\u001b[0m\u001b[0;34m)\u001b[0m\u001b[0;34m\u001b[0m\u001b[0;34m\u001b[0m\u001b[0m\n\u001b[1;32m     19\u001b[0m     \u001b[0;31m#for j in range(len(corpus[i])):\u001b[0m\u001b[0;34m\u001b[0m\u001b[0;34m\u001b[0m\u001b[0m\n",
            "\u001b[0;31mNameError\u001b[0m: name 'occurrence_of_word_in_whole_doc' is not defined"
          ]
        }
      ]
    },
    {
      "cell_type": "markdown",
      "source": [
        "## TF-IDF calculation"
      ],
      "metadata": {
        "id": "8xcUkA_8bVGI"
      }
    },
    {
      "cell_type": "code",
      "source": [
        "\"\"\"Method which accepts input_sent of the form : [\"is\", \"this\", \"a\", \"sent\"].\n",
        "        Task:\n",
        "            Implement the tfidf approach for the above input. \n",
        "            This function should return a vector of counts for the given inputs.\n",
        "            The output shape of the vector should be 1 x len(self.vocab)\n",
        "            The output should be a numpy array\n",
        "            Example:\n",
        "                length of vocabulary = 10\n",
        "                input_sent = [\"is\", \"this\", \"a\", \"sent\"]\n",
        "                The method should return a vector of shape 1 x 10.\n",
        "            Formula:\n",
        "                TF(t) = (Number of times word t appears in a document) / (Total number of words in the document).\n",
        "                IDF will already be calculated and stored in self.idfs_ variable.\n",
        "        \"\"\""
      ],
      "metadata": {
        "id": "vty9nHQ7bvh-"
      },
      "execution_count": null,
      "outputs": []
    },
    {
      "cell_type": "code",
      "source": [
        "input_sent = [\"is\", \"this\", \"a\", \"sent\"]\n",
        "\n",
        "vector_shape = (1, len(words))\n",
        "print(\"vector shape =\", vector_shape)\n",
        "vector = np.zeros(vector_shape, dtype=float)\n",
        "print(vector)\n",
        "\n",
        "for word in input_sent:\n",
        "  print(\"word =\", word)\n",
        "  if word not in words:\n",
        "    input_index = np.where(input_sent == word)\n",
        "    print(\"OOV error with the word: *\", word, \"* at \", input_index[0])\n",
        "  elif word in word_to_index:\n",
        "    print(\"idfs[word] for\", word, \"is\", idfs[word])\n",
        "    # TF(t) = (Number of times word t appears in a document) / (Total number of words in the document).\n",
        "    tf = input_sent.count(word) / len(input_sent)\n",
        "    #tf = idfs[word]/len(input_sent)\n",
        "    print(\"Term Frequency for\", word, \"is\", tf)\n",
        "    #input_index = np.where(input_sent == word)\n",
        "    #print(i, \"found at input index =\", input_index)\n",
        "    indx = word_to_index[word] #getting index of i (word of input_sent) from our index map\n",
        "    #print(\"the word is mapped at indx =\", indx) \n",
        "    #print(\"vector shape = \", vector.shape)\n",
        "    #print(\"inside if\", \"vector[0][indx] =\", vector[0][indx])\n",
        "    vector[0][indx] = tf * idfs[word]\n",
        "\n",
        "print(vector)\n",
        "#vector = vector[0]"
      ],
      "metadata": {
        "colab": {
          "base_uri": "https://localhost:8080/"
        },
        "id": "arbUeRWdbT-v",
        "outputId": "4272e18b-da36-4a41-ffb3-bafbdc71f29b"
      },
      "execution_count": 124,
      "outputs": [
        {
          "output_type": "stream",
          "name": "stdout",
          "text": [
            "vector shape = (1, 5)\n",
            "[[0. 0. 0. 0. 0.]]\n",
            "word = is\n",
            "idfs[word] for is is 0.9030899869919436\n",
            "Term Frequency for is is 0.25\n",
            "word = this\n",
            "idfs[word] for this is 0.9030899869919436\n",
            "Term Frequency for this is 0.25\n",
            "word = a\n",
            "OOV error with the word: * a * at  []\n",
            "word = sent\n",
            "OOV error with the word: * sent * at  []\n",
            "[[0.        0.2257725 0.        0.2257725 0.       ]]\n"
          ]
        }
      ]
    },
    {
      "cell_type": "markdown",
      "source": [
        "## Excess"
      ],
      "metadata": {
        "id": "ZIZdAQ-BbNv9"
      }
    },
    {
      "cell_type": "code",
      "source": [
        "\n",
        "\n",
        "# for word in words:\n",
        "#   count = 0\n",
        "#  #index for 1st array of 2D corpus\n",
        "#   print(\"i=\", i)\n",
        "#   while i<len(corpus):\n",
        "#     j = 0\n",
        "#     #print(\"i=\", i, \"j=\", j, \"corpus[i] length = \", len(corpus[i]))\n",
        "#     while j<len(corpus[i]):\n",
        "#       #print(corpus[i][j])\n",
        "#       if corpus[i][j] in words:\n",
        "\n",
        "#       j+=1\n",
        "#     i+=1\n",
        "\n",
        "x = math.log(1+len(corpus))\n",
        "y = 1 + x\n",
        "idf = 1.0 + x/y\n",
        "\n",
        "# idf = 1.0 + math.log[(1+length of data) / (1+number of documents with the term)]\n",
        "#**The formula in the code file is missing a bracket. This formula will ensure you won't run into ZeroDivisionErrors.**\n",
        "#Reference: http://www.tfidf.com/\n",
        "#Hint: Iterate over the vocab and check if word occurs in sentence. Count the occurence and store them in self.idfs_ dictionary.'''"
      ],
      "metadata": {
        "id": "VrrnlZpfbJnu"
      },
      "execution_count": null,
      "outputs": []
    },
    {
      "cell_type": "markdown",
      "source": [
        "# **SkLearn Output**"
      ],
      "metadata": {
        "id": "j4AxGtT0CYjo"
      }
    },
    {
      "cell_type": "code",
      "source": [
        "corpus = [[\"this\", \"is\", \"a\", \"document\"], [\"this\", \"is\", \"a\", \"processed\", \"document\"], [\"is\", \"this\", \"a\", \"document\"], [\"this\", \"is\", \"not\", \"a\", \"document\"]]\n",
        "custom_tfidf = CustomTFIDF(corpus)\n",
        "sklearn_output = CountVectorizer().fit_transform(corpus)\n",
        "sklearn_output = TfidfTransformer().fit_transform(sklearn_output).toarray()\n",
        "print(sklearn_output)"
      ],
      "metadata": {
        "id": "hkpGGLTJBWCS"
      },
      "execution_count": null,
      "outputs": []
    },
    {
      "cell_type": "code",
      "source": [
        "corpus = [[\"this\", \"is\", \"a\", \"document\"], [\"this\", \"is\", \"a\", \"processed\", \"document\"], [\"is\", \"this\", \"a\", \"document\"], [\"this\", \"is\", \"not\", \"a\", \"document\"]]\n",
        "custom_tfidf = CustomTFIDF(corpus)\n",
        "custom_output = custom_tfidf.create_vector()\n",
        "print(custom_output)"
      ],
      "metadata": {
        "colab": {
          "base_uri": "https://localhost:8080/"
        },
        "id": "qCg0nbsRfYKn",
        "outputId": "6aeb3385-e278-499d-9198-39d1741d2bbe"
      },
      "execution_count": 63,
      "outputs": [
        {
          "output_type": "stream",
          "name": "stdout",
          "text": [
            "idfs map: {'document': 4, 'is': 4, 'not': 1, 'processed': 1, 'this': 4}\n",
            "count= 1 TF= 0.25 IDF= 4 vector value= 1.0\n",
            "count= 1 TF= 0.25 IDF= 4 vector value= 1.0\n",
            "count= 1 TF= 0.25 IDF= 4 vector value= 1.0\n",
            "[[1. 1. 0. 0. 1.]]\n",
            "count= 1 TF= 0.2 IDF= 4 vector value= 0.8\n",
            "count= 1 TF= 0.2 IDF= 4 vector value= 0.8\n",
            "count= 1 TF= 0.2 IDF= 1 vector value= 0.2\n",
            "count= 1 TF= 0.2 IDF= 4 vector value= 0.8\n",
            "[[0.8 0.8 0.  0.2 0.8]]\n",
            "count= 1 TF= 0.25 IDF= 4 vector value= 1.0\n",
            "count= 1 TF= 0.25 IDF= 4 vector value= 1.0\n",
            "count= 1 TF= 0.25 IDF= 4 vector value= 1.0\n",
            "[[1. 1. 0. 0. 1.]]\n",
            "count= 1 TF= 0.2 IDF= 4 vector value= 0.8\n",
            "count= 1 TF= 0.2 IDF= 4 vector value= 0.8\n",
            "count= 1 TF= 0.2 IDF= 1 vector value= 0.2\n",
            "count= 1 TF= 0.2 IDF= 4 vector value= 0.8\n",
            "[[0.8 0.8 0.2 0.  0.8]]\n",
            "[[0.57735027 0.57735027 0.         0.         0.57735027]\n",
            " [0.57142857 0.57142857 0.         0.14285714 0.57142857]\n",
            " [0.57735027 0.57735027 0.         0.         0.57735027]\n",
            " [0.57142857 0.57142857 0.14285714 0.         0.57142857]]\n"
          ]
        }
      ]
    },
    {
      "cell_type": "markdown",
      "source": [
        "# **Main Test**"
      ],
      "metadata": {
        "id": "huFuNvgEBXi1"
      }
    },
    {
      "cell_type": "code",
      "source": [
        "#Do not modify code below this. If this modified you will be given straight away 0.\n",
        "class testApproach:\n",
        "    def __init__(self):\n",
        "        self.original_corpus = [\"this is a document\", \"this is a processed document\", \"is this a document\", \"This is not a document\"]\n",
        "        self.corpus = self.process(self.original_corpus)\n",
        "        self.sklearn_bow = CountVectorizer()\n",
        "        self.sklearn_transformer = TfidfTransformer()\n",
        "        self.custom_tfidf = CustomTFIDF(self.corpus)\n",
        "\n",
        "    def process(self, corpus):\n",
        "        corpus = [x.lower() for x in corpus]\n",
        "        return [x.split() for x in corpus]\n",
        "    \n",
        "    def testTFIDF(self):\n",
        "        sklearn_output = self.sklearn_bow.fit_transform(self.original_corpus)\n",
        "        sklearn_output = self.sklearn_transformer.fit_transform(sklearn_output).toarray()\n",
        "        print(\"Sklearn Output = \", sklearn_output)\n",
        "        custom_output = self.custom_tfidf.create_vector()\n",
        "        print(\"Our Output = \", custom_output)\n",
        "        try:\n",
        "            is_correct = np.allclose(sklearn_output, custom_output) \n",
        "        except:\n",
        "            is_correct = False\n",
        "        if is_correct is True:\n",
        "            print(f\"ID : {ID} | Name : {NAME} | ALL test cases passed.\")\n",
        "            print(\"====\"*20)\n",
        "        else:\n",
        "            print(f\"ID : {ID} | Name : {NAME} | ALL test cases Failed.\")\n",
        "            print(\"====\"*20)\n",
        "\n",
        "if __name__ == \"__main__\":\n",
        "    tester = testApproach()\n",
        "    tester.testTFIDF()"
      ],
      "metadata": {
        "id": "86xVOcYR-RNt",
        "colab": {
          "base_uri": "https://localhost:8080/"
        },
        "outputId": "4d99fa2d-d8b0-41da-e7e3-2f5e85c08912"
      },
      "execution_count": 64,
      "outputs": [
        {
          "output_type": "stream",
          "name": "stdout",
          "text": [
            "Sklearn Output =  [[0.57735027 0.57735027 0.         0.         0.57735027]\n",
            " [0.38713857 0.38713857 0.         0.74187006 0.38713857]\n",
            " [0.57735027 0.57735027 0.         0.         0.57735027]\n",
            " [0.38713857 0.38713857 0.74187006 0.         0.38713857]]\n",
            "idfs map: {'document': 4, 'is': 4, 'not': 1, 'processed': 1, 'this': 4}\n",
            "count= 1 TF= 0.25 IDF= 4 vector value= 1.0\n",
            "count= 1 TF= 0.25 IDF= 4 vector value= 1.0\n",
            "count= 1 TF= 0.25 IDF= 4 vector value= 1.0\n",
            "[[1. 1. 0. 0. 1.]]\n",
            "count= 1 TF= 0.2 IDF= 4 vector value= 0.8\n",
            "count= 1 TF= 0.2 IDF= 4 vector value= 0.8\n",
            "count= 1 TF= 0.2 IDF= 1 vector value= 0.2\n",
            "count= 1 TF= 0.2 IDF= 4 vector value= 0.8\n",
            "[[0.8 0.8 0.  0.2 0.8]]\n",
            "count= 1 TF= 0.25 IDF= 4 vector value= 1.0\n",
            "count= 1 TF= 0.25 IDF= 4 vector value= 1.0\n",
            "count= 1 TF= 0.25 IDF= 4 vector value= 1.0\n",
            "[[1. 1. 0. 0. 1.]]\n",
            "count= 1 TF= 0.2 IDF= 4 vector value= 0.8\n",
            "count= 1 TF= 0.2 IDF= 4 vector value= 0.8\n",
            "count= 1 TF= 0.2 IDF= 1 vector value= 0.2\n",
            "count= 1 TF= 0.2 IDF= 4 vector value= 0.8\n",
            "[[0.8 0.8 0.2 0.  0.8]]\n",
            "Our Output =  [[0.57735027 0.57735027 0.         0.         0.57735027]\n",
            " [0.57142857 0.57142857 0.         0.14285714 0.57142857]\n",
            " [0.57735027 0.57735027 0.         0.         0.57735027]\n",
            " [0.57142857 0.57142857 0.14285714 0.         0.57142857]]\n",
            "ID : 1191609 | Name : Sama Samrin | ALL test cases Failed.\n",
            "================================================================================\n"
          ]
        }
      ]
    }
  ]
}